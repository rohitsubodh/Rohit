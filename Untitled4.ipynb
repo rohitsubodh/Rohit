{
  "nbformat": 4,
  "nbformat_minor": 0,
  "metadata": {
    "colab": {
      "name": "Untitled4.ipynb",
      "provenance": [],
      "authorship_tag": "ABX9TyPsVEEsdGCFm8BrAuImonHU",
      "include_colab_link": true
    },
    "kernelspec": {
      "name": "python3",
      "display_name": "Python 3"
    }
  },
  "cells": [
    {
      "cell_type": "markdown",
      "metadata": {
        "id": "view-in-github",
        "colab_type": "text"
      },
      "source": [
        "<a href=\"https://colab.research.google.com/github/rohitsubodh/Rohit/blob/main/Untitled4.ipynb\" target=\"_parent\"><img src=\"https://colab.research.google.com/assets/colab-badge.svg\" alt=\"Open In Colab\"/></a>"
      ]
    },
    {
      "cell_type": "code",
      "metadata": {
        "id": "qDWT8tn_w6-0"
      },
      "source": [
        "import pandas as pd\r\n",
        "import numpy as np\r\n",
        "import matplotlib.pyplot as plt\r\n",
        "import seaborn as sns\r\n"
      ],
      "execution_count": 116,
      "outputs": []
    },
    {
      "cell_type": "code",
      "metadata": {
        "id": "1r86sH9QxKLu"
      },
      "source": [
        "df=pd.read_csv('filename.csv')\r\n",
        "df=df[['temp(cel)','mean_windspeed(km/hr)','re_hum(%)','cloud(okta)','rain(mm)','avg._no._rainyday','district','month_index']]"
      ],
      "execution_count": 117,
      "outputs": []
    },
    {
      "cell_type": "code",
      "metadata": {
        "colab": {
          "base_uri": "https://localhost:8080/",
          "height": 402
        },
        "id": "wn6BkoERx6oN",
        "outputId": "0afe823b-9c7c-45f8-bb97-975277e49f68"
      },
      "source": [
        "df"
      ],
      "execution_count": 118,
      "outputs": [
        {
          "output_type": "execute_result",
          "data": {
            "text/html": [
              "<div>\n",
              "<style scoped>\n",
              "    .dataframe tbody tr th:only-of-type {\n",
              "        vertical-align: middle;\n",
              "    }\n",
              "\n",
              "    .dataframe tbody tr th {\n",
              "        vertical-align: top;\n",
              "    }\n",
              "\n",
              "    .dataframe thead th {\n",
              "        text-align: right;\n",
              "    }\n",
              "</style>\n",
              "<table border=\"1\" class=\"dataframe\">\n",
              "  <thead>\n",
              "    <tr style=\"text-align: right;\">\n",
              "      <th></th>\n",
              "      <th>temp(cel)</th>\n",
              "      <th>mean_windspeed(km/hr)</th>\n",
              "      <th>re_hum(%)</th>\n",
              "      <th>cloud(okta)</th>\n",
              "      <th>rain(mm)</th>\n",
              "      <th>avg._no._rainyday</th>\n",
              "      <th>district</th>\n",
              "      <th>month_index</th>\n",
              "    </tr>\n",
              "  </thead>\n",
              "  <tbody>\n",
              "    <tr>\n",
              "      <th>0</th>\n",
              "      <td>12.571663</td>\n",
              "      <td>4.861222</td>\n",
              "      <td>77.267091</td>\n",
              "      <td>1.525148</td>\n",
              "      <td>14.375759</td>\n",
              "      <td>0.9</td>\n",
              "      <td>Bhagalpur</td>\n",
              "      <td>1</td>\n",
              "    </tr>\n",
              "    <tr>\n",
              "      <th>1</th>\n",
              "      <td>16.876908</td>\n",
              "      <td>4.658724</td>\n",
              "      <td>76.001416</td>\n",
              "      <td>1.749436</td>\n",
              "      <td>13.976031</td>\n",
              "      <td>0.9</td>\n",
              "      <td>Bhagalpur</td>\n",
              "      <td>1</td>\n",
              "    </tr>\n",
              "    <tr>\n",
              "      <th>2</th>\n",
              "      <td>15.775776</td>\n",
              "      <td>3.505728</td>\n",
              "      <td>79.321824</td>\n",
              "      <td>1.713624</td>\n",
              "      <td>12.331613</td>\n",
              "      <td>0.9</td>\n",
              "      <td>Bhagalpur</td>\n",
              "      <td>1</td>\n",
              "    </tr>\n",
              "    <tr>\n",
              "      <th>3</th>\n",
              "      <td>12.903226</td>\n",
              "      <td>3.196545</td>\n",
              "      <td>79.323649</td>\n",
              "      <td>1.591761</td>\n",
              "      <td>12.337610</td>\n",
              "      <td>0.9</td>\n",
              "      <td>Bhagalpur</td>\n",
              "      <td>1</td>\n",
              "    </tr>\n",
              "    <tr>\n",
              "      <th>4</th>\n",
              "      <td>16.829754</td>\n",
              "      <td>4.926399</td>\n",
              "      <td>78.572965</td>\n",
              "      <td>1.469696</td>\n",
              "      <td>12.780349</td>\n",
              "      <td>0.9</td>\n",
              "      <td>Bhagalpur</td>\n",
              "      <td>1</td>\n",
              "    </tr>\n",
              "    <tr>\n",
              "      <th>...</th>\n",
              "      <td>...</td>\n",
              "      <td>...</td>\n",
              "      <td>...</td>\n",
              "      <td>...</td>\n",
              "      <td>...</td>\n",
              "      <td>...</td>\n",
              "      <td>...</td>\n",
              "      <td>...</td>\n",
              "    </tr>\n",
              "    <tr>\n",
              "      <th>5105</th>\n",
              "      <td>22.921990</td>\n",
              "      <td>1.056778</td>\n",
              "      <td>86.740943</td>\n",
              "      <td>0.523402</td>\n",
              "      <td>2.164579</td>\n",
              "      <td>0.4</td>\n",
              "      <td>Supaul</td>\n",
              "      <td>12</td>\n",
              "    </tr>\n",
              "    <tr>\n",
              "      <th>5106</th>\n",
              "      <td>22.700828</td>\n",
              "      <td>1.516224</td>\n",
              "      <td>83.216797</td>\n",
              "      <td>0.600504</td>\n",
              "      <td>5.536653</td>\n",
              "      <td>0.4</td>\n",
              "      <td>Supaul</td>\n",
              "      <td>12</td>\n",
              "    </tr>\n",
              "    <tr>\n",
              "      <th>5107</th>\n",
              "      <td>17.960705</td>\n",
              "      <td>2.402960</td>\n",
              "      <td>84.923203</td>\n",
              "      <td>0.599858</td>\n",
              "      <td>4.497545</td>\n",
              "      <td>0.4</td>\n",
              "      <td>Supaul</td>\n",
              "      <td>12</td>\n",
              "    </tr>\n",
              "    <tr>\n",
              "      <th>5108</th>\n",
              "      <td>25.074912</td>\n",
              "      <td>0.815435</td>\n",
              "      <td>85.353020</td>\n",
              "      <td>0.590177</td>\n",
              "      <td>3.974889</td>\n",
              "      <td>0.4</td>\n",
              "      <td>Supaul</td>\n",
              "      <td>12</td>\n",
              "    </tr>\n",
              "    <tr>\n",
              "      <th>5109</th>\n",
              "      <td>23.879991</td>\n",
              "      <td>1.563365</td>\n",
              "      <td>86.351620</td>\n",
              "      <td>0.765416</td>\n",
              "      <td>3.283006</td>\n",
              "      <td>0.4</td>\n",
              "      <td>Supaul</td>\n",
              "      <td>12</td>\n",
              "    </tr>\n",
              "  </tbody>\n",
              "</table>\n",
              "<p>5110 rows × 8 columns</p>\n",
              "</div>"
            ],
            "text/plain": [
              "      temp(cel)  mean_windspeed(km/hr)  ...   district  month_index\n",
              "0     12.571663               4.861222  ...  Bhagalpur            1\n",
              "1     16.876908               4.658724  ...  Bhagalpur            1\n",
              "2     15.775776               3.505728  ...  Bhagalpur            1\n",
              "3     12.903226               3.196545  ...  Bhagalpur            1\n",
              "4     16.829754               4.926399  ...  Bhagalpur            1\n",
              "...         ...                    ...  ...        ...          ...\n",
              "5105  22.921990               1.056778  ...     Supaul           12\n",
              "5106  22.700828               1.516224  ...     Supaul           12\n",
              "5107  17.960705               2.402960  ...     Supaul           12\n",
              "5108  25.074912               0.815435  ...     Supaul           12\n",
              "5109  23.879991               1.563365  ...     Supaul           12\n",
              "\n",
              "[5110 rows x 8 columns]"
            ]
          },
          "metadata": {
            "tags": []
          },
          "execution_count": 118
        }
      ]
    },
    {
      "cell_type": "code",
      "metadata": {
        "id": "_dpMahDdyobb"
      },
      "source": [
        "from sklearn import preprocessing\r\n",
        "lb = preprocessing.LabelEncoder()\r\n",
        "df['district']=lb.fit_transform(df['district'])"
      ],
      "execution_count": 119,
      "outputs": []
    },
    {
      "cell_type": "code",
      "metadata": {
        "colab": {
          "base_uri": "https://localhost:8080/"
        },
        "id": "vuUVaCC9zB9-",
        "outputId": "672d71b1-7a94-462e-acb0-a77025f4e9a3"
      },
      "source": [
        "df['district'].unique()"
      ],
      "execution_count": 120,
      "outputs": [
        {
          "output_type": "execute_result",
          "data": {
            "text/plain": [
              "array([ 0, 11,  1,  2,  3,  4, 12,  5,  6, 13,  7,  8,  9, 10])"
            ]
          },
          "metadata": {
            "tags": []
          },
          "execution_count": 120
        }
      ]
    },
    {
      "cell_type": "code",
      "metadata": {
        "colab": {
          "base_uri": "https://localhost:8080/",
          "height": 402
        },
        "id": "gSGAs3UEzE60",
        "outputId": "623bfd33-dad3-4c73-85d1-a5437013a526"
      },
      "source": [
        "df"
      ],
      "execution_count": 121,
      "outputs": [
        {
          "output_type": "execute_result",
          "data": {
            "text/html": [
              "<div>\n",
              "<style scoped>\n",
              "    .dataframe tbody tr th:only-of-type {\n",
              "        vertical-align: middle;\n",
              "    }\n",
              "\n",
              "    .dataframe tbody tr th {\n",
              "        vertical-align: top;\n",
              "    }\n",
              "\n",
              "    .dataframe thead th {\n",
              "        text-align: right;\n",
              "    }\n",
              "</style>\n",
              "<table border=\"1\" class=\"dataframe\">\n",
              "  <thead>\n",
              "    <tr style=\"text-align: right;\">\n",
              "      <th></th>\n",
              "      <th>temp(cel)</th>\n",
              "      <th>mean_windspeed(km/hr)</th>\n",
              "      <th>re_hum(%)</th>\n",
              "      <th>cloud(okta)</th>\n",
              "      <th>rain(mm)</th>\n",
              "      <th>avg._no._rainyday</th>\n",
              "      <th>district</th>\n",
              "      <th>month_index</th>\n",
              "    </tr>\n",
              "  </thead>\n",
              "  <tbody>\n",
              "    <tr>\n",
              "      <th>0</th>\n",
              "      <td>12.571663</td>\n",
              "      <td>4.861222</td>\n",
              "      <td>77.267091</td>\n",
              "      <td>1.525148</td>\n",
              "      <td>14.375759</td>\n",
              "      <td>0.9</td>\n",
              "      <td>0</td>\n",
              "      <td>1</td>\n",
              "    </tr>\n",
              "    <tr>\n",
              "      <th>1</th>\n",
              "      <td>16.876908</td>\n",
              "      <td>4.658724</td>\n",
              "      <td>76.001416</td>\n",
              "      <td>1.749436</td>\n",
              "      <td>13.976031</td>\n",
              "      <td>0.9</td>\n",
              "      <td>0</td>\n",
              "      <td>1</td>\n",
              "    </tr>\n",
              "    <tr>\n",
              "      <th>2</th>\n",
              "      <td>15.775776</td>\n",
              "      <td>3.505728</td>\n",
              "      <td>79.321824</td>\n",
              "      <td>1.713624</td>\n",
              "      <td>12.331613</td>\n",
              "      <td>0.9</td>\n",
              "      <td>0</td>\n",
              "      <td>1</td>\n",
              "    </tr>\n",
              "    <tr>\n",
              "      <th>3</th>\n",
              "      <td>12.903226</td>\n",
              "      <td>3.196545</td>\n",
              "      <td>79.323649</td>\n",
              "      <td>1.591761</td>\n",
              "      <td>12.337610</td>\n",
              "      <td>0.9</td>\n",
              "      <td>0</td>\n",
              "      <td>1</td>\n",
              "    </tr>\n",
              "    <tr>\n",
              "      <th>4</th>\n",
              "      <td>16.829754</td>\n",
              "      <td>4.926399</td>\n",
              "      <td>78.572965</td>\n",
              "      <td>1.469696</td>\n",
              "      <td>12.780349</td>\n",
              "      <td>0.9</td>\n",
              "      <td>0</td>\n",
              "      <td>1</td>\n",
              "    </tr>\n",
              "    <tr>\n",
              "      <th>...</th>\n",
              "      <td>...</td>\n",
              "      <td>...</td>\n",
              "      <td>...</td>\n",
              "      <td>...</td>\n",
              "      <td>...</td>\n",
              "      <td>...</td>\n",
              "      <td>...</td>\n",
              "      <td>...</td>\n",
              "    </tr>\n",
              "    <tr>\n",
              "      <th>5105</th>\n",
              "      <td>22.921990</td>\n",
              "      <td>1.056778</td>\n",
              "      <td>86.740943</td>\n",
              "      <td>0.523402</td>\n",
              "      <td>2.164579</td>\n",
              "      <td>0.4</td>\n",
              "      <td>10</td>\n",
              "      <td>12</td>\n",
              "    </tr>\n",
              "    <tr>\n",
              "      <th>5106</th>\n",
              "      <td>22.700828</td>\n",
              "      <td>1.516224</td>\n",
              "      <td>83.216797</td>\n",
              "      <td>0.600504</td>\n",
              "      <td>5.536653</td>\n",
              "      <td>0.4</td>\n",
              "      <td>10</td>\n",
              "      <td>12</td>\n",
              "    </tr>\n",
              "    <tr>\n",
              "      <th>5107</th>\n",
              "      <td>17.960705</td>\n",
              "      <td>2.402960</td>\n",
              "      <td>84.923203</td>\n",
              "      <td>0.599858</td>\n",
              "      <td>4.497545</td>\n",
              "      <td>0.4</td>\n",
              "      <td>10</td>\n",
              "      <td>12</td>\n",
              "    </tr>\n",
              "    <tr>\n",
              "      <th>5108</th>\n",
              "      <td>25.074912</td>\n",
              "      <td>0.815435</td>\n",
              "      <td>85.353020</td>\n",
              "      <td>0.590177</td>\n",
              "      <td>3.974889</td>\n",
              "      <td>0.4</td>\n",
              "      <td>10</td>\n",
              "      <td>12</td>\n",
              "    </tr>\n",
              "    <tr>\n",
              "      <th>5109</th>\n",
              "      <td>23.879991</td>\n",
              "      <td>1.563365</td>\n",
              "      <td>86.351620</td>\n",
              "      <td>0.765416</td>\n",
              "      <td>3.283006</td>\n",
              "      <td>0.4</td>\n",
              "      <td>10</td>\n",
              "      <td>12</td>\n",
              "    </tr>\n",
              "  </tbody>\n",
              "</table>\n",
              "<p>5110 rows × 8 columns</p>\n",
              "</div>"
            ],
            "text/plain": [
              "      temp(cel)  mean_windspeed(km/hr)  ...  district  month_index\n",
              "0     12.571663               4.861222  ...         0            1\n",
              "1     16.876908               4.658724  ...         0            1\n",
              "2     15.775776               3.505728  ...         0            1\n",
              "3     12.903226               3.196545  ...         0            1\n",
              "4     16.829754               4.926399  ...         0            1\n",
              "...         ...                    ...  ...       ...          ...\n",
              "5105  22.921990               1.056778  ...        10           12\n",
              "5106  22.700828               1.516224  ...        10           12\n",
              "5107  17.960705               2.402960  ...        10           12\n",
              "5108  25.074912               0.815435  ...        10           12\n",
              "5109  23.879991               1.563365  ...        10           12\n",
              "\n",
              "[5110 rows x 8 columns]"
            ]
          },
          "metadata": {
            "tags": []
          },
          "execution_count": 121
        }
      ]
    },
    {
      "cell_type": "code",
      "metadata": {
        "colab": {
          "base_uri": "https://localhost:8080/",
          "height": 402
        },
        "id": "9TY94zLy4Ao1",
        "outputId": "b469eaea-4398-4e76-827f-36048e347004"
      },
      "source": [
        "df = df.sample(frac = 1) \r\n",
        "df"
      ],
      "execution_count": 122,
      "outputs": [
        {
          "output_type": "execute_result",
          "data": {
            "text/html": [
              "<div>\n",
              "<style scoped>\n",
              "    .dataframe tbody tr th:only-of-type {\n",
              "        vertical-align: middle;\n",
              "    }\n",
              "\n",
              "    .dataframe tbody tr th {\n",
              "        vertical-align: top;\n",
              "    }\n",
              "\n",
              "    .dataframe thead th {\n",
              "        text-align: right;\n",
              "    }\n",
              "</style>\n",
              "<table border=\"1\" class=\"dataframe\">\n",
              "  <thead>\n",
              "    <tr style=\"text-align: right;\">\n",
              "      <th></th>\n",
              "      <th>temp(cel)</th>\n",
              "      <th>mean_windspeed(km/hr)</th>\n",
              "      <th>re_hum(%)</th>\n",
              "      <th>cloud(okta)</th>\n",
              "      <th>rain(mm)</th>\n",
              "      <th>avg._no._rainyday</th>\n",
              "      <th>district</th>\n",
              "      <th>month_index</th>\n",
              "    </tr>\n",
              "  </thead>\n",
              "  <tbody>\n",
              "    <tr>\n",
              "      <th>4457</th>\n",
              "      <td>24.934960</td>\n",
              "      <td>3.211261</td>\n",
              "      <td>78.886079</td>\n",
              "      <td>0.966431</td>\n",
              "      <td>5.597372</td>\n",
              "      <td>0.4</td>\n",
              "      <td>12</td>\n",
              "      <td>11</td>\n",
              "    </tr>\n",
              "    <tr>\n",
              "      <th>4888</th>\n",
              "      <td>25.780808</td>\n",
              "      <td>2.890894</td>\n",
              "      <td>8.422003</td>\n",
              "      <td>0.400552</td>\n",
              "      <td>6.314025</td>\n",
              "      <td>0.4</td>\n",
              "      <td>12</td>\n",
              "      <td>12</td>\n",
              "    </tr>\n",
              "    <tr>\n",
              "      <th>4356</th>\n",
              "      <td>19.021048</td>\n",
              "      <td>1.690396</td>\n",
              "      <td>67.101707</td>\n",
              "      <td>1.026570</td>\n",
              "      <td>6.846867</td>\n",
              "      <td>0.4</td>\n",
              "      <td>2</td>\n",
              "      <td>11</td>\n",
              "    </tr>\n",
              "    <tr>\n",
              "      <th>2350</th>\n",
              "      <td>31.844843</td>\n",
              "      <td>5.134368</td>\n",
              "      <td>76.310220</td>\n",
              "      <td>4.069304</td>\n",
              "      <td>216.284412</td>\n",
              "      <td>8.5</td>\n",
              "      <td>5</td>\n",
              "      <td>6</td>\n",
              "    </tr>\n",
              "    <tr>\n",
              "      <th>2523</th>\n",
              "      <td>32.789146</td>\n",
              "      <td>7.860702</td>\n",
              "      <td>85.123422</td>\n",
              "      <td>4.112979</td>\n",
              "      <td>222.306176</td>\n",
              "      <td>8.3</td>\n",
              "      <td>10</td>\n",
              "      <td>6</td>\n",
              "    </tr>\n",
              "    <tr>\n",
              "      <th>...</th>\n",
              "      <td>...</td>\n",
              "      <td>...</td>\n",
              "      <td>...</td>\n",
              "      <td>...</td>\n",
              "      <td>...</td>\n",
              "      <td>...</td>\n",
              "      <td>...</td>\n",
              "      <td>...</td>\n",
              "    </tr>\n",
              "    <tr>\n",
              "      <th>1288</th>\n",
              "      <td>36.033766</td>\n",
              "      <td>7.586980</td>\n",
              "      <td>56.568282</td>\n",
              "      <td>2.219598</td>\n",
              "      <td>9.342241</td>\n",
              "      <td>0.8</td>\n",
              "      <td>0</td>\n",
              "      <td>4</td>\n",
              "    </tr>\n",
              "    <tr>\n",
              "      <th>924</th>\n",
              "      <td>16.972233</td>\n",
              "      <td>5.273937</td>\n",
              "      <td>44.225283</td>\n",
              "      <td>1.210264</td>\n",
              "      <td>7.815905</td>\n",
              "      <td>1.1</td>\n",
              "      <td>2</td>\n",
              "      <td>3</td>\n",
              "    </tr>\n",
              "    <tr>\n",
              "      <th>4763</th>\n",
              "      <td>18.110275</td>\n",
              "      <td>0.301379</td>\n",
              "      <td>63.757647</td>\n",
              "      <td>0.641808</td>\n",
              "      <td>6.008657</td>\n",
              "      <td>0.5</td>\n",
              "      <td>1</td>\n",
              "      <td>12</td>\n",
              "    </tr>\n",
              "    <tr>\n",
              "      <th>829</th>\n",
              "      <td>21.827575</td>\n",
              "      <td>5.987669</td>\n",
              "      <td>65.489273</td>\n",
              "      <td>1.600382</td>\n",
              "      <td>11.140770</td>\n",
              "      <td>0.8</td>\n",
              "      <td>0</td>\n",
              "      <td>3</td>\n",
              "    </tr>\n",
              "    <tr>\n",
              "      <th>859</th>\n",
              "      <td>18.528082</td>\n",
              "      <td>5.553425</td>\n",
              "      <td>53.194643</td>\n",
              "      <td>0.821838</td>\n",
              "      <td>6.847424</td>\n",
              "      <td>0.7</td>\n",
              "      <td>11</td>\n",
              "      <td>3</td>\n",
              "    </tr>\n",
              "  </tbody>\n",
              "</table>\n",
              "<p>5110 rows × 8 columns</p>\n",
              "</div>"
            ],
            "text/plain": [
              "      temp(cel)  mean_windspeed(km/hr)  ...  district  month_index\n",
              "4457  24.934960               3.211261  ...        12           11\n",
              "4888  25.780808               2.890894  ...        12           12\n",
              "4356  19.021048               1.690396  ...         2           11\n",
              "2350  31.844843               5.134368  ...         5            6\n",
              "2523  32.789146               7.860702  ...        10            6\n",
              "...         ...                    ...  ...       ...          ...\n",
              "1288  36.033766               7.586980  ...         0            4\n",
              "924   16.972233               5.273937  ...         2            3\n",
              "4763  18.110275               0.301379  ...         1           12\n",
              "829   21.827575               5.987669  ...         0            3\n",
              "859   18.528082               5.553425  ...        11            3\n",
              "\n",
              "[5110 rows x 8 columns]"
            ]
          },
          "metadata": {
            "tags": []
          },
          "execution_count": 122
        }
      ]
    },
    {
      "cell_type": "code",
      "metadata": {
        "id": "pqjBfy_-5P7G"
      },
      "source": [
        "X=df[['temp(cel)','mean_windspeed(km/hr)','re_hum(%)','cloud(okta)','rain(mm)','avg._no._rainyday']]\r\n",
        "y1=df[['district']]\r\n",
        "y2=df[['month_index']]"
      ],
      "execution_count": 123,
      "outputs": []
    },
    {
      "cell_type": "code",
      "metadata": {
        "colab": {
          "base_uri": "https://localhost:8080/"
        },
        "id": "MX57LhuR_UvO",
        "outputId": "387846f0-bcf3-4396-9245-09f30d0dba0f"
      },
      "source": [
        "X1=X.iloc[:,:-1].values \r\n",
        "X1.shape\r\n",
        "X.shape\r\n",
        "y1.shape"
      ],
      "execution_count": 124,
      "outputs": [
        {
          "output_type": "execute_result",
          "data": {
            "text/plain": [
              "(5110, 1)"
            ]
          },
          "metadata": {
            "tags": []
          },
          "execution_count": 124
        }
      ]
    },
    {
      "cell_type": "code",
      "metadata": {
        "colab": {
          "base_uri": "https://localhost:8080/"
        },
        "id": "tUvRcQQR_Kia",
        "outputId": "cc25957f-2b7b-4b82-c9a2-12947e3e1046"
      },
      "source": [
        "\r\n",
        "y12=df['district'].values\r\n",
        "y12.size"
      ],
      "execution_count": 125,
      "outputs": [
        {
          "output_type": "execute_result",
          "data": {
            "text/plain": [
              "5110"
            ]
          },
          "metadata": {
            "tags": []
          },
          "execution_count": 125
        }
      ]
    },
    {
      "cell_type": "code",
      "metadata": {
        "colab": {
          "base_uri": "https://localhost:8080/",
          "height": 729
        },
        "id": "qAVcxBbiRWan",
        "outputId": "6302270d-d9fa-462a-c17f-b67ecafedab3"
      },
      "source": [
        "# X=df[['temp(cel)','mean_windspeed(km/hr)','re_hum(%)','cloud(okta)','rain(mm)','avg._no._rainyday']]\r\n",
        "\r\n",
        "sns.jointplot(x='cloud(okta)',y='district',data=df,kind='reg',height=10)\r\n",
        "plt.show();"
      ],
      "execution_count": 130,
      "outputs": [
        {
          "output_type": "display_data",
          "data": {
            "image/png": "[encoded data removed]",
            "text/plain": [
              "<Figure size 720x720 with 3 Axes>"
            ]
          },
          "metadata": {
            "tags": [],
            "needs_background": "light"
          }
        }
      ]
    },
    {
      "cell_type": "code",
      "metadata": {
        "id": "04i9rKGpRyc9"
      },
      "source": [
        ""
      ],
      "execution_count": null,
      "outputs": []
    }
  ]
}