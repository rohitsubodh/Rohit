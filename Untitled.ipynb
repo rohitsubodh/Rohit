{
 "cells": [
  {
   "cell_type": "code",
   "execution_count": 2,
   "metadata": {},
   "outputs": [],
   "source": [
    "import numpy as np\n",
    "import matplotlib.pyplot as plt\n",
    "import seaborn as sns\n",
    "import pandas as pd\n",
    "%matplotlib inline\n",
    "sns.set_style('whitegrid')\n",
    "from sklearn.ensemble import RandomForestClassifier\n",
    "from sklearn.ensemble import BaggingClassifier\n",
    "from sklearn.model_selection import cross_val_score,cross_val_predict\n",
    "from sklearn.metrics import accuracy_score,precision_score,recall_score,f1_score\n",
    "from sklearn.ensemble import AdaBoostClassifier"
   ]
  },
  {
   "cell_type": "code",
   "execution_count": 3,
   "metadata": {},
   "outputs": [],
   "source": [
    "df = pd.read_csv('train.csv') "
   ]
  },
  {
   "cell_type": "code",
   "execution_count": 4,
   "metadata": {},
   "outputs": [],
   "source": [
    "df['condition'].fillna(1,inplace=True)"
   ]
  },
  {
   "cell_type": "code",
   "execution_count": 5,
   "metadata": {},
   "outputs": [
    {
     "name": "stderr",
     "output_type": "stream",
     "text": [
      "C:\\Users\\dell\\Anaconda3\\envs\\iris2\\lib\\site-packages\\ipykernel_launcher.py:4: SettingWithCopyWarning: \n",
      "A value is trying to be set on a copy of a slice from a DataFrame.\n",
      "Try using .loc[row_indexer,col_indexer] = value instead\n",
      "\n",
      "See the caveats in the documentation: https://pandas.pydata.org/pandas-docs/stable/user_guide/indexing.html#returning-a-view-versus-a-copy\n",
      "  after removing the cwd from sys.path.\n"
     ]
    }
   ],
   "source": [
    "X= df[['condition','length(m)','height(cm)','X1','X2','color_type']]\n",
    "from sklearn import preprocessing\n",
    "lb = preprocessing.LabelBinarizer()\n",
    "X['color_type']=lb.fit_transform(X['color_type'])\n",
    "Y1 = df[['breed_category']]\n",
    "Y2 = df[['pet_category']]"
   ]
  },
  {
   "cell_type": "code",
   "execution_count": 6,
   "metadata": {},
   "outputs": [],
   "source": [
    "from sklearn.preprocessing import StandardScaler\n",
    "sc_x = StandardScaler()\n",
    "\n",
    "X_std = sc_x.fit_transform(X.values)\n"
   ]
  },
  {
   "cell_type": "code",
   "execution_count": 7,
   "metadata": {},
   "outputs": [],
   "source": [
    "def print_score2(clf,X_train,X_test,y_train,y_test,train=True):\n",
    "    '''\n",
    "    print the accuracy score,classification report ,and confusion matrix'''\n",
    "    if train:\n",
    "        '''\n",
    "        training per formance'''\n",
    "        print(\"Train Result:\\n\")\n",
    "        print(\"accuracy score: {0:.4f}\\n\".format(accuracy_score(y_train,clf.predict(X_train))))\n",
    "        y_train_pred = cross_val_predict(clf,X_train,y_train,cv=3)\n",
    "        print(\"Precision:\\t\\t{:.4f}\".format(precision_score(y_train,\n",
    "                                                    y_train_pred,\n",
    "                                                    average='weighted')))\n",
    "        print(\"recall:\\t\\t{:.4f}\".format(recall_score(y_train,\n",
    "                                              y_train_pred,\n",
    "                                              average='weighted')))\n",
    "        print(\"F1:\\t\\t{:.4f}\".format(f1_score(y_train,\n",
    "                                      y_train_pred,\n",
    "                                      average='weighted')))\n",
    "        \n",
    "    elif train==False:\n",
    "        '''\n",
    "        test performance'''\n",
    "        print(\"Test Result:\\n\")\n",
    "        print(\"accuracy score: {0:.4f}\\n\".format(accuracy_score(y_test,clf.predict(X_test))))\n",
    "        y_test_pred = cross_val_predict(clf,X_test,y_test,cv=3)\n",
    "        print(\"precision score:\\t {0:.4f}\".format(precision_score(y_test,\n",
    "                                                          y_test_pred,\n",
    "                                                          average='weighted')))\n",
    "        print(\"Recall score:\\t {0:.4f}\".format(recall_score(y_test,\n",
    "                                                    y_test_pred,\n",
    "                                                    average='weighted')))\n",
    "        print(\"F1 score:\\t {0:.4f}\".format(f1_score(y_test,\n",
    "                                            y_test_pred,\n",
    "                                            average='weighted')))\n",
    "        "
   ]
  },
  {
   "cell_type": "code",
   "execution_count": null,
   "metadata": {},
   "outputs": [],
   "source": []
  },
  {
   "cell_type": "code",
   "execution_count": null,
   "metadata": {},
   "outputs": [],
   "source": []
  },
  {
   "cell_type": "code",
   "execution_count": 8,
   "metadata": {},
   "outputs": [
    {
     "name": "stderr",
     "output_type": "stream",
     "text": [
      "C:\\Users\\dell\\Anaconda3\\envs\\iris2\\lib\\site-packages\\sklearn\\utils\\validation.py:760: DataConversionWarning: A column-vector y was passed when a 1d array was expected. Please change the shape of y to (n_samples, ), for example using ravel().\n",
      "  y = column_or_1d(y, warn=True)\n"
     ]
    },
    {
     "data": {
      "text/plain": [
       "AdaBoostClassifier(algorithm='SAMME.R',\n",
       "                   base_estimator=RandomForestClassifier(bootstrap=True,\n",
       "                                                         ccp_alpha=0.0,\n",
       "                                                         class_weight={0: 0.834,\n",
       "                                                                       1: 0.166},\n",
       "                                                         criterion='gini',\n",
       "                                                         max_depth=None,\n",
       "                                                         max_features='auto',\n",
       "                                                         max_leaf_nodes=None,\n",
       "                                                         max_samples=None,\n",
       "                                                         min_impurity_decrease=0.0,\n",
       "                                                         min_impurity_split=None,\n",
       "                                                         min_samples_leaf=1,\n",
       "                                                         min_samples_split=2,\n",
       "                                                         min_weight_fraction_leaf=0.0,\n",
       "                                                         n_estimators=100,\n",
       "                                                         n_jobs=None,\n",
       "                                                         oob_score=False,\n",
       "                                                         random_state=None,\n",
       "                                                         verbose=0,\n",
       "                                                         warm_start=False),\n",
       "                   learning_rate=0.5, n_estimators=10, random_state=42)"
      ]
     },
     "execution_count": 8,
     "metadata": {},
     "output_type": "execute_result"
    }
   ],
   "source": [
    "from sklearn.model_selection import train_test_split\n",
    "X_train,X_test,y_train,y_test = train_test_split(X_std,Y2,train_size=.8,random_state=42)\n",
    "\n",
    "class_weight = {0:0.834,1:0.166}\n",
    "forest = RandomForestClassifier(class_weight=class_weight)\n",
    "ada2 = AdaBoostClassifier(base_estimator=forest,n_estimators=10,\n",
    "                        learning_rate=0.5,random_state=42)\n",
    "ada2.fit(X_train,y_train)\n",
    "\n"
   ]
  },
  {
   "cell_type": "code",
   "execution_count": 9,
   "metadata": {},
   "outputs": [],
   "source": [
    "# bag_clf2 = BaggingClassifier(base_estimator=ada2,n_estimators=5,\n",
    "#                            max_samples=1.0,max_features=1.0,\n",
    "#                            bootstrap=True,\n",
    "#                            bootstrap_features=False,n_jobs=-1,\n",
    "#                            random_state=42)\n",
    "# bag_clf2.fit(X_train,y_train)\n",
    "# clf2 = bag_clf2\n"
   ]
  },
  {
   "cell_type": "code",
   "execution_count": 10,
   "metadata": {},
   "outputs": [
    {
     "name": "stderr",
     "output_type": "stream",
     "text": [
      "C:\\Users\\dell\\Anaconda3\\envs\\iris2\\lib\\site-packages\\ipykernel_launcher.py:7: SettingWithCopyWarning: \n",
      "A value is trying to be set on a copy of a slice from a DataFrame.\n",
      "Try using .loc[row_indexer,col_indexer] = value instead\n",
      "\n",
      "See the caveats in the documentation: https://pandas.pydata.org/pandas-docs/stable/user_guide/indexing.html#returning-a-view-versus-a-copy\n",
      "  import sys\n"
     ]
    }
   ],
   "source": [
    "df1 = pd.read_csv('test.csv')\n",
    "df1.head\n",
    "df1['condition'].fillna(1,inplace=True)\n",
    "X1= df1[['condition','length(m)','height(cm)','X1','X2','color_type']]\n",
    "from sklearn import preprocessing\n",
    "lb = preprocessing.LabelBinarizer()\n",
    "X1['color_type']=lb.fit_transform(X1['color_type'])\n",
    "\n",
    "from sklearn.preprocessing import StandardScaler\n",
    "sc_x = StandardScaler()\n",
    "\n",
    "X_std1 = sc_x.fit_transform(X1.values)"
   ]
  },
  {
   "cell_type": "code",
   "execution_count": 11,
   "metadata": {},
   "outputs": [],
   "source": [
    "\n",
    "final2 = ada2.predict(X_std1)\n",
    "\n"
   ]
  },
  {
   "cell_type": "code",
   "execution_count": 12,
   "metadata": {},
   "outputs": [
    {
     "data": {
      "text/plain": [
       "array([2, 2, 2, ..., 2, 4, 1], dtype=int64)"
      ]
     },
     "execution_count": 12,
     "metadata": {},
     "output_type": "execute_result"
    }
   ],
   "source": [
    "final2"
   ]
  },
  {
   "cell_type": "code",
   "execution_count": null,
   "metadata": {},
   "outputs": [],
   "source": []
  }
 ],
 "metadata": {
  "kernelspec": {
   "display_name": "Python 3",
   "language": "python",
   "name": "python3"
  },
  "language_info": {
   "codemirror_mode": {
    "name": "ipython",
    "version": 3
   },
   "file_extension": ".py",
   "mimetype": "text/x-python",
   "name": "python",
   "nbconvert_exporter": "python",
   "pygments_lexer": "ipython3",
   "version": "3.7.6"
  }
 },
 "nbformat": 4,
 "nbformat_minor": 4
}
