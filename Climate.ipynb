{
  "nbformat": 4,
  "nbformat_minor": 0,
  "metadata": {
    "colab": {
      "name": "Climate.ipynb",
      "provenance": [],
      "authorship_tag": "ABX9TyM9K4D5Ohe7pBBwHboisak6",
      "include_colab_link": true
    },
    "kernelspec": {
      "name": "python3",
      "display_name": "Python 3"
    }
  },
  "cells": [
    {
      "cell_type": "markdown",
      "metadata": {
        "id": "view-in-github",
        "colab_type": "text"
      },
      "source": [
        "<a href=\"https://colab.research.google.com/github/rohitsubodh/Rohit/blob/main/Climate.ipynb\" target=\"_parent\"><img src=\"https://colab.research.google.com/assets/colab-badge.svg\" alt=\"Open In Colab\"/></a>"
      ]
    },
    {
      "cell_type": "code",
      "metadata": {
        "id": "qDWT8tn_w6-0"
      },
      "source": [
        "import pandas as pd\r\n",
        "import numpy as np\r\n",
        "import matplotlib.pyplot as plt\r\n",
        "import seaborn as sns\r\n"
      ],
      "execution_count": null,
      "outputs": []
    },
    {
      "cell_type": "code",
      "metadata": {
        "id": "1r86sH9QxKLu"
      },
      "source": [
        "df=pd.read_csv('filename.csv')\r\n",
        "df=df[['temp(cel)','mean_windspeed(km/hr)','re_hum(%)','cloud(okta)','rain(mm)','avg._no._rainyday','district','month_index']]"
      ],
      "execution_count": null,
      "outputs": []
    },
    {
      "cell_type": "code",
      "metadata": {
        "colab": {
          "base_uri": "https://localhost:8080/",
          "height": 402
        },
        "id": "wn6BkoERx6oN",
        "outputId": "64645dbd-234f-4a94-af0b-1e29ce183257"
      },
      "source": [
        "df"
      ],
      "execution_count": null,
      "outputs": [
        {
          "output_type": "execute_result",
          "data": {
            "text/html": [
              "<div>\n",
              "<style scoped>\n",
              "    .dataframe tbody tr th:only-of-type {\n",
              "        vertical-align: middle;\n",
              "    }\n",
              "\n",
              "    .dataframe tbody tr th {\n",
              "        vertical-align: top;\n",
              "    }\n",
              "\n",
              "    .dataframe thead th {\n",
              "        text-align: right;\n",
              "    }\n",
              "</style>\n",
              "<table border=\"1\" class=\"dataframe\">\n",
              "  <thead>\n",
              "    <tr style=\"text-align: right;\">\n",
              "      <th></th>\n",
              "      <th>temp(cel)</th>\n",
              "      <th>mean_windspeed(km/hr)</th>\n",
              "      <th>re_hum(%)</th>\n",
              "      <th>cloud(okta)</th>\n",
              "      <th>rain(mm)</th>\n",
              "      <th>avg._no._rainyday</th>\n",
              "      <th>district</th>\n",
              "      <th>month_index</th>\n",
              "    </tr>\n",
              "  </thead>\n",
              "  <tbody>\n",
              "    <tr>\n",
              "      <th>0</th>\n",
              "      <td>12.571663</td>\n",
              "      <td>4.861222</td>\n",
              "      <td>77.267091</td>\n",
              "      <td>1.525148</td>\n",
              "      <td>14.375759</td>\n",
              "      <td>0.9</td>\n",
              "      <td>Bhagalpur</td>\n",
              "      <td>1</td>\n",
              "    </tr>\n",
              "    <tr>\n",
              "      <th>1</th>\n",
              "      <td>16.876908</td>\n",
              "      <td>4.658724</td>\n",
              "      <td>76.001416</td>\n",
              "      <td>1.749436</td>\n",
              "      <td>13.976031</td>\n",
              "      <td>0.9</td>\n",
              "      <td>Bhagalpur</td>\n",
              "      <td>1</td>\n",
              "    </tr>\n",
              "    <tr>\n",
              "      <th>2</th>\n",
              "      <td>15.775776</td>\n",
              "      <td>3.505728</td>\n",
              "      <td>79.321824</td>\n",
              "      <td>1.713624</td>\n",
              "      <td>12.331613</td>\n",
              "      <td>0.9</td>\n",
              "      <td>Bhagalpur</td>\n",
              "      <td>1</td>\n",
              "    </tr>\n",
              "    <tr>\n",
              "      <th>3</th>\n",
              "      <td>12.903226</td>\n",
              "      <td>3.196545</td>\n",
              "      <td>79.323649</td>\n",
              "      <td>1.591761</td>\n",
              "      <td>12.337610</td>\n",
              "      <td>0.9</td>\n",
              "      <td>Bhagalpur</td>\n",
              "      <td>1</td>\n",
              "    </tr>\n",
              "    <tr>\n",
              "      <th>4</th>\n",
              "      <td>16.829754</td>\n",
              "      <td>4.926399</td>\n",
              "      <td>78.572965</td>\n",
              "      <td>1.469696</td>\n",
              "      <td>12.780349</td>\n",
              "      <td>0.9</td>\n",
              "      <td>Bhagalpur</td>\n",
              "      <td>1</td>\n",
              "    </tr>\n",
              "    <tr>\n",
              "      <th>...</th>\n",
              "      <td>...</td>\n",
              "      <td>...</td>\n",
              "      <td>...</td>\n",
              "      <td>...</td>\n",
              "      <td>...</td>\n",
              "      <td>...</td>\n",
              "      <td>...</td>\n",
              "      <td>...</td>\n",
              "    </tr>\n",
              "    <tr>\n",
              "      <th>5105</th>\n",
              "      <td>22.921990</td>\n",
              "      <td>1.056778</td>\n",
              "      <td>86.740943</td>\n",
              "      <td>0.523402</td>\n",
              "      <td>2.164579</td>\n",
              "      <td>0.4</td>\n",
              "      <td>Supaul</td>\n",
              "      <td>12</td>\n",
              "    </tr>\n",
              "    <tr>\n",
              "      <th>5106</th>\n",
              "      <td>22.700828</td>\n",
              "      <td>1.516224</td>\n",
              "      <td>83.216797</td>\n",
              "      <td>0.600504</td>\n",
              "      <td>5.536653</td>\n",
              "      <td>0.4</td>\n",
              "      <td>Supaul</td>\n",
              "      <td>12</td>\n",
              "    </tr>\n",
              "    <tr>\n",
              "      <th>5107</th>\n",
              "      <td>17.960705</td>\n",
              "      <td>2.402960</td>\n",
              "      <td>84.923203</td>\n",
              "      <td>0.599858</td>\n",
              "      <td>4.497545</td>\n",
              "      <td>0.4</td>\n",
              "      <td>Supaul</td>\n",
              "      <td>12</td>\n",
              "    </tr>\n",
              "    <tr>\n",
              "      <th>5108</th>\n",
              "      <td>25.074912</td>\n",
              "      <td>0.815435</td>\n",
              "      <td>85.353020</td>\n",
              "      <td>0.590177</td>\n",
              "      <td>3.974889</td>\n",
              "      <td>0.4</td>\n",
              "      <td>Supaul</td>\n",
              "      <td>12</td>\n",
              "    </tr>\n",
              "    <tr>\n",
              "      <th>5109</th>\n",
              "      <td>23.879991</td>\n",
              "      <td>1.563365</td>\n",
              "      <td>86.351620</td>\n",
              "      <td>0.765416</td>\n",
              "      <td>3.283006</td>\n",
              "      <td>0.4</td>\n",
              "      <td>Supaul</td>\n",
              "      <td>12</td>\n",
              "    </tr>\n",
              "  </tbody>\n",
              "</table>\n",
              "<p>5110 rows × 8 columns</p>\n",
              "</div>"
            ],
            "text/plain": [
              "      temp(cel)  mean_windspeed(km/hr)  ...   district  month_index\n",
              "0     12.571663               4.861222  ...  Bhagalpur            1\n",
              "1     16.876908               4.658724  ...  Bhagalpur            1\n",
              "2     15.775776               3.505728  ...  Bhagalpur            1\n",
              "3     12.903226               3.196545  ...  Bhagalpur            1\n",
              "4     16.829754               4.926399  ...  Bhagalpur            1\n",
              "...         ...                    ...  ...        ...          ...\n",
              "5105  22.921990               1.056778  ...     Supaul           12\n",
              "5106  22.700828               1.516224  ...     Supaul           12\n",
              "5107  17.960705               2.402960  ...     Supaul           12\n",
              "5108  25.074912               0.815435  ...     Supaul           12\n",
              "5109  23.879991               1.563365  ...     Supaul           12\n",
              "\n",
              "[5110 rows x 8 columns]"
            ]
          },
          "metadata": {
            "tags": []
          },
          "execution_count": 5
        }
      ]
    },
    {
      "cell_type": "code",
      "metadata": {
        "id": "_dpMahDdyobb"
      },
      "source": [
        "from sklearn import preprocessing\r\n",
        "lb = preprocessing.LabelEncoder()\r\n",
        "df['district']=lb.fit_transform(df['district'])"
      ],
      "execution_count": null,
      "outputs": []
    },
    {
      "cell_type": "code",
      "metadata": {
        "colab": {
          "base_uri": "https://localhost:8080/"
        },
        "id": "vuUVaCC9zB9-",
        "outputId": "2b7f3918-561d-4421-d1aa-36da55e6ff80"
      },
      "source": [
        "df['district'].unique()"
      ],
      "execution_count": null,
      "outputs": [
        {
          "output_type": "execute_result",
          "data": {
            "text/plain": [
              "array([ 0, 11,  1,  2,  3,  4, 12,  5,  6, 13,  7,  8,  9, 10])"
            ]
          },
          "metadata": {
            "tags": []
          },
          "execution_count": 7
        }
      ]
    },
    {
      "cell_type": "code",
      "metadata": {
        "colab": {
          "base_uri": "https://localhost:8080/",
          "height": 402
        },
        "id": "gSGAs3UEzE60",
        "outputId": "3c5a4c39-ac57-467d-876b-9e5fc78cab0b"
      },
      "source": [
        "df"
      ],
      "execution_count": null,
      "outputs": [
        {
          "output_type": "execute_result",
          "data": {
            "text/html": [
              "<div>\n",
              "<style scoped>\n",
              "    .dataframe tbody tr th:only-of-type {\n",
              "        vertical-align: middle;\n",
              "    }\n",
              "\n",
              "    .dataframe tbody tr th {\n",
              "        vertical-align: top;\n",
              "    }\n",
              "\n",
              "    .dataframe thead th {\n",
              "        text-align: right;\n",
              "    }\n",
              "</style>\n",
              "<table border=\"1\" class=\"dataframe\">\n",
              "  <thead>\n",
              "    <tr style=\"text-align: right;\">\n",
              "      <th></th>\n",
              "      <th>temp(cel)</th>\n",
              "      <th>mean_windspeed(km/hr)</th>\n",
              "      <th>re_hum(%)</th>\n",
              "      <th>cloud(okta)</th>\n",
              "      <th>rain(mm)</th>\n",
              "      <th>avg._no._rainyday</th>\n",
              "      <th>district</th>\n",
              "      <th>month_index</th>\n",
              "    </tr>\n",
              "  </thead>\n",
              "  <tbody>\n",
              "    <tr>\n",
              "      <th>0</th>\n",
              "      <td>12.571663</td>\n",
              "      <td>4.861222</td>\n",
              "      <td>77.267091</td>\n",
              "      <td>1.525148</td>\n",
              "      <td>14.375759</td>\n",
              "      <td>0.9</td>\n",
              "      <td>0</td>\n",
              "      <td>1</td>\n",
              "    </tr>\n",
              "    <tr>\n",
              "      <th>1</th>\n",
              "      <td>16.876908</td>\n",
              "      <td>4.658724</td>\n",
              "      <td>76.001416</td>\n",
              "      <td>1.749436</td>\n",
              "      <td>13.976031</td>\n",
              "      <td>0.9</td>\n",
              "      <td>0</td>\n",
              "      <td>1</td>\n",
              "    </tr>\n",
              "    <tr>\n",
              "      <th>2</th>\n",
              "      <td>15.775776</td>\n",
              "      <td>3.505728</td>\n",
              "      <td>79.321824</td>\n",
              "      <td>1.713624</td>\n",
              "      <td>12.331613</td>\n",
              "      <td>0.9</td>\n",
              "      <td>0</td>\n",
              "      <td>1</td>\n",
              "    </tr>\n",
              "    <tr>\n",
              "      <th>3</th>\n",
              "      <td>12.903226</td>\n",
              "      <td>3.196545</td>\n",
              "      <td>79.323649</td>\n",
              "      <td>1.591761</td>\n",
              "      <td>12.337610</td>\n",
              "      <td>0.9</td>\n",
              "      <td>0</td>\n",
              "      <td>1</td>\n",
              "    </tr>\n",
              "    <tr>\n",
              "      <th>4</th>\n",
              "      <td>16.829754</td>\n",
              "      <td>4.926399</td>\n",
              "      <td>78.572965</td>\n",
              "      <td>1.469696</td>\n",
              "      <td>12.780349</td>\n",
              "      <td>0.9</td>\n",
              "      <td>0</td>\n",
              "      <td>1</td>\n",
              "    </tr>\n",
              "    <tr>\n",
              "      <th>...</th>\n",
              "      <td>...</td>\n",
              "      <td>...</td>\n",
              "      <td>...</td>\n",
              "      <td>...</td>\n",
              "      <td>...</td>\n",
              "      <td>...</td>\n",
              "      <td>...</td>\n",
              "      <td>...</td>\n",
              "    </tr>\n",
              "    <tr>\n",
              "      <th>5105</th>\n",
              "      <td>22.921990</td>\n",
              "      <td>1.056778</td>\n",
              "      <td>86.740943</td>\n",
              "      <td>0.523402</td>\n",
              "      <td>2.164579</td>\n",
              "      <td>0.4</td>\n",
              "      <td>10</td>\n",
              "      <td>12</td>\n",
              "    </tr>\n",
              "    <tr>\n",
              "      <th>5106</th>\n",
              "      <td>22.700828</td>\n",
              "      <td>1.516224</td>\n",
              "      <td>83.216797</td>\n",
              "      <td>0.600504</td>\n",
              "      <td>5.536653</td>\n",
              "      <td>0.4</td>\n",
              "      <td>10</td>\n",
              "      <td>12</td>\n",
              "    </tr>\n",
              "    <tr>\n",
              "      <th>5107</th>\n",
              "      <td>17.960705</td>\n",
              "      <td>2.402960</td>\n",
              "      <td>84.923203</td>\n",
              "      <td>0.599858</td>\n",
              "      <td>4.497545</td>\n",
              "      <td>0.4</td>\n",
              "      <td>10</td>\n",
              "      <td>12</td>\n",
              "    </tr>\n",
              "    <tr>\n",
              "      <th>5108</th>\n",
              "      <td>25.074912</td>\n",
              "      <td>0.815435</td>\n",
              "      <td>85.353020</td>\n",
              "      <td>0.590177</td>\n",
              "      <td>3.974889</td>\n",
              "      <td>0.4</td>\n",
              "      <td>10</td>\n",
              "      <td>12</td>\n",
              "    </tr>\n",
              "    <tr>\n",
              "      <th>5109</th>\n",
              "      <td>23.879991</td>\n",
              "      <td>1.563365</td>\n",
              "      <td>86.351620</td>\n",
              "      <td>0.765416</td>\n",
              "      <td>3.283006</td>\n",
              "      <td>0.4</td>\n",
              "      <td>10</td>\n",
              "      <td>12</td>\n",
              "    </tr>\n",
              "  </tbody>\n",
              "</table>\n",
              "<p>5110 rows × 8 columns</p>\n",
              "</div>"
            ],
            "text/plain": [
              "      temp(cel)  mean_windspeed(km/hr)  ...  district  month_index\n",
              "0     12.571663               4.861222  ...         0            1\n",
              "1     16.876908               4.658724  ...         0            1\n",
              "2     15.775776               3.505728  ...         0            1\n",
              "3     12.903226               3.196545  ...         0            1\n",
              "4     16.829754               4.926399  ...         0            1\n",
              "...         ...                    ...  ...       ...          ...\n",
              "5105  22.921990               1.056778  ...        10           12\n",
              "5106  22.700828               1.516224  ...        10           12\n",
              "5107  17.960705               2.402960  ...        10           12\n",
              "5108  25.074912               0.815435  ...        10           12\n",
              "5109  23.879991               1.563365  ...        10           12\n",
              "\n",
              "[5110 rows x 8 columns]"
            ]
          },
          "metadata": {
            "tags": []
          },
          "execution_count": 8
        }
      ]
    },
    {
      "cell_type": "code",
      "metadata": {
        "colab": {
          "base_uri": "https://localhost:8080/",
          "height": 402
        },
        "id": "9TY94zLy4Ao1",
        "outputId": "afa01ac7-26ef-43e2-af63-f0f61a473da2"
      },
      "source": [
        "df = df.sample(frac = 1) \r\n",
        "df"
      ],
      "execution_count": null,
      "outputs": [
        {
          "output_type": "execute_result",
          "data": {
            "text/html": [
              "<div>\n",
              "<style scoped>\n",
              "    .dataframe tbody tr th:only-of-type {\n",
              "        vertical-align: middle;\n",
              "    }\n",
              "\n",
              "    .dataframe tbody tr th {\n",
              "        vertical-align: top;\n",
              "    }\n",
              "\n",
              "    .dataframe thead th {\n",
              "        text-align: right;\n",
              "    }\n",
              "</style>\n",
              "<table border=\"1\" class=\"dataframe\">\n",
              "  <thead>\n",
              "    <tr style=\"text-align: right;\">\n",
              "      <th></th>\n",
              "      <th>temp(cel)</th>\n",
              "      <th>mean_windspeed(km/hr)</th>\n",
              "      <th>re_hum(%)</th>\n",
              "      <th>cloud(okta)</th>\n",
              "      <th>rain(mm)</th>\n",
              "      <th>avg._no._rainyday</th>\n",
              "      <th>district</th>\n",
              "      <th>month_index</th>\n",
              "    </tr>\n",
              "  </thead>\n",
              "  <tbody>\n",
              "    <tr>\n",
              "      <th>4286</th>\n",
              "      <td>21.884662</td>\n",
              "      <td>2.884715</td>\n",
              "      <td>71.501169</td>\n",
              "      <td>0.784565</td>\n",
              "      <td>9.506467</td>\n",
              "      <td>0.3</td>\n",
              "      <td>11</td>\n",
              "      <td>11</td>\n",
              "    </tr>\n",
              "    <tr>\n",
              "      <th>1774</th>\n",
              "      <td>24.202536</td>\n",
              "      <td>5.638834</td>\n",
              "      <td>44.073098</td>\n",
              "      <td>1.048054</td>\n",
              "      <td>14.949944</td>\n",
              "      <td>1.7</td>\n",
              "      <td>2</td>\n",
              "      <td>5</td>\n",
              "    </tr>\n",
              "    <tr>\n",
              "      <th>1480</th>\n",
              "      <td>27.096406</td>\n",
              "      <td>4.809284</td>\n",
              "      <td>57.527929</td>\n",
              "      <td>1.073929</td>\n",
              "      <td>13.178931</td>\n",
              "      <td>1.0</td>\n",
              "      <td>5</td>\n",
              "      <td>4</td>\n",
              "    </tr>\n",
              "    <tr>\n",
              "      <th>987</th>\n",
              "      <td>20.073342</td>\n",
              "      <td>6.924724</td>\n",
              "      <td>46.126819</td>\n",
              "      <td>1.607873</td>\n",
              "      <td>11.888671</td>\n",
              "      <td>0.7</td>\n",
              "      <td>4</td>\n",
              "      <td>3</td>\n",
              "    </tr>\n",
              "    <tr>\n",
              "      <th>4826</th>\n",
              "      <td>19.262744</td>\n",
              "      <td>3.674833</td>\n",
              "      <td>82.266590</td>\n",
              "      <td>1.157225</td>\n",
              "      <td>9.192665</td>\n",
              "      <td>0.6</td>\n",
              "      <td>3</td>\n",
              "      <td>12</td>\n",
              "    </tr>\n",
              "    <tr>\n",
              "      <th>...</th>\n",
              "      <td>...</td>\n",
              "      <td>...</td>\n",
              "      <td>...</td>\n",
              "      <td>...</td>\n",
              "      <td>...</td>\n",
              "      <td>...</td>\n",
              "      <td>...</td>\n",
              "      <td>...</td>\n",
              "    </tr>\n",
              "    <tr>\n",
              "      <th>2425</th>\n",
              "      <td>27.766341</td>\n",
              "      <td>6.012744</td>\n",
              "      <td>81.430587</td>\n",
              "      <td>5.136162</td>\n",
              "      <td>278.748499</td>\n",
              "      <td>10.0</td>\n",
              "      <td>7</td>\n",
              "      <td>6</td>\n",
              "    </tr>\n",
              "    <tr>\n",
              "      <th>3789</th>\n",
              "      <td>29.395161</td>\n",
              "      <td>6.233334</td>\n",
              "      <td>83.408014</td>\n",
              "      <td>5.797507</td>\n",
              "      <td>233.983198</td>\n",
              "      <td>9.6</td>\n",
              "      <td>9</td>\n",
              "      <td>9</td>\n",
              "    </tr>\n",
              "    <tr>\n",
              "      <th>4553</th>\n",
              "      <td>24.796616</td>\n",
              "      <td>1.420562</td>\n",
              "      <td>71.466148</td>\n",
              "      <td>1.214592</td>\n",
              "      <td>6.069758</td>\n",
              "      <td>0.3</td>\n",
              "      <td>13</td>\n",
              "      <td>11</td>\n",
              "    </tr>\n",
              "    <tr>\n",
              "      <th>1915</th>\n",
              "      <td>33.118311</td>\n",
              "      <td>6.106134</td>\n",
              "      <td>68.527099</td>\n",
              "      <td>1.696145</td>\n",
              "      <td>51.109247</td>\n",
              "      <td>3.0</td>\n",
              "      <td>5</td>\n",
              "      <td>5</td>\n",
              "    </tr>\n",
              "    <tr>\n",
              "      <th>1330</th>\n",
              "      <td>24.454472</td>\n",
              "      <td>5.467144</td>\n",
              "      <td>51.389225</td>\n",
              "      <td>0.567132</td>\n",
              "      <td>9.227146</td>\n",
              "      <td>0.7</td>\n",
              "      <td>1</td>\n",
              "      <td>4</td>\n",
              "    </tr>\n",
              "  </tbody>\n",
              "</table>\n",
              "<p>5110 rows × 8 columns</p>\n",
              "</div>"
            ],
            "text/plain": [
              "      temp(cel)  mean_windspeed(km/hr)  ...  district  month_index\n",
              "4286  21.884662               2.884715  ...        11           11\n",
              "1774  24.202536               5.638834  ...         2            5\n",
              "1480  27.096406               4.809284  ...         5            4\n",
              "987   20.073342               6.924724  ...         4            3\n",
              "4826  19.262744               3.674833  ...         3           12\n",
              "...         ...                    ...  ...       ...          ...\n",
              "2425  27.766341               6.012744  ...         7            6\n",
              "3789  29.395161               6.233334  ...         9            9\n",
              "4553  24.796616               1.420562  ...        13           11\n",
              "1915  33.118311               6.106134  ...         5            5\n",
              "1330  24.454472               5.467144  ...         1            4\n",
              "\n",
              "[5110 rows x 8 columns]"
            ]
          },
          "metadata": {
            "tags": []
          },
          "execution_count": 9
        }
      ]
    },
    {
      "cell_type": "code",
      "metadata": {
        "id": "pqjBfy_-5P7G"
      },
      "source": [
        "X=df[['temp(cel)','mean_windspeed(km/hr)','re_hum(%)','cloud(okta)','rain(mm)','avg._no._rainyday']]\r\n",
        "y1=df[['district']]\r\n",
        "y2=df[['month_index']]"
      ],
      "execution_count": null,
      "outputs": []
    },
    {
      "cell_type": "code",
      "metadata": {
        "colab": {
          "base_uri": "https://localhost:8080/"
        },
        "id": "MX57LhuR_UvO",
        "outputId": "328754d0-b55c-45c5-90a3-bbf7afc50bf2"
      },
      "source": [
        "X1=X.iloc[:,:-1].values \r\n",
        "X1.shape\r\n",
        "X.shape\r\n",
        "y1.shape"
      ],
      "execution_count": null,
      "outputs": [
        {
          "output_type": "execute_result",
          "data": {
            "text/plain": [
              "(5110, 1)"
            ]
          },
          "metadata": {
            "tags": []
          },
          "execution_count": 11
        }
      ]
    },
    {
      "cell_type": "code",
      "metadata": {
        "colab": {
          "base_uri": "https://localhost:8080/"
        },
        "id": "tUvRcQQR_Kia",
        "outputId": "0dc6845f-9dd9-47d2-9f67-61d596b95973"
      },
      "source": [
        "\r\n",
        "y12=df['district'].values\r\n",
        "y12.size"
      ],
      "execution_count": null,
      "outputs": [
        {
          "output_type": "execute_result",
          "data": {
            "text/plain": [
              "5110"
            ]
          },
          "metadata": {
            "tags": []
          },
          "execution_count": 12
        }
      ]
    },
    {
      "cell_type": "code",
      "metadata": {
        "colab": {
          "base_uri": "https://localhost:8080/",
          "height": 729
        },
        "id": "qAVcxBbiRWan",
        "outputId": "0e62f8f8-c245-4d82-c172-a8d2ca2f6dce"
      },
      "source": [
        "# X=df[['temp(cel)','mean_windspeed(km/hr)','re_hum(%)','cloud(okta)','rain(mm)','avg._no._rainyday']]\r\n",
        "\r\n",
        "sns.jointplot(x='cloud(okta)',y='district',data=df,kind='reg',height=10)\r\n",
        "plt.show();"
      ],
      "execution_count": null,
      "outputs": [
        {
          "output_type": "display_data",
          "data": {
            "image/png": "[encoded data removed]",
            "text/plain": [
              "<Figure size 720x720 with 3 Axes>"
            ]
          },
          "metadata": {
            "tags": [],
            "needs_background": "light"
          }
        }
      ]
    },
    {
      "cell_type": "code",
      "metadata": {
        "colab": {
          "base_uri": "https://localhost:8080/",
          "height": 225
        },
        "id": "04i9rKGpRyc9",
        "outputId": "c44a88ec-f1ba-4335-deaf-315a697e37a0"
      },
      "source": [
        "corr_matrix=X.corr()\r\n",
        "pd.options.display.float_format='{:,.2f}'.format\r\n",
        "corr_matrix"
      ],
      "execution_count": null,
      "outputs": [
        {
          "output_type": "execute_result",
          "data": {
            "text/html": [
              "<div>\n",
              "<style scoped>\n",
              "    .dataframe tbody tr th:only-of-type {\n",
              "        vertical-align: middle;\n",
              "    }\n",
              "\n",
              "    .dataframe tbody tr th {\n",
              "        vertical-align: top;\n",
              "    }\n",
              "\n",
              "    .dataframe thead th {\n",
              "        text-align: right;\n",
              "    }\n",
              "</style>\n",
              "<table border=\"1\" class=\"dataframe\">\n",
              "  <thead>\n",
              "    <tr style=\"text-align: right;\">\n",
              "      <th></th>\n",
              "      <th>temp(cel)</th>\n",
              "      <th>mean_windspeed(km/hr)</th>\n",
              "      <th>re_hum(%)</th>\n",
              "      <th>cloud(okta)</th>\n",
              "      <th>rain(mm)</th>\n",
              "      <th>avg._no._rainyday</th>\n",
              "    </tr>\n",
              "  </thead>\n",
              "  <tbody>\n",
              "    <tr>\n",
              "      <th>temp(cel)</th>\n",
              "      <td>1.00</td>\n",
              "      <td>0.52</td>\n",
              "      <td>-0.02</td>\n",
              "      <td>0.48</td>\n",
              "      <td>0.45</td>\n",
              "      <td>0.47</td>\n",
              "    </tr>\n",
              "    <tr>\n",
              "      <th>mean_windspeed(km/hr)</th>\n",
              "      <td>0.52</td>\n",
              "      <td>1.00</td>\n",
              "      <td>-0.07</td>\n",
              "      <td>0.47</td>\n",
              "      <td>0.39</td>\n",
              "      <td>0.41</td>\n",
              "    </tr>\n",
              "    <tr>\n",
              "      <th>re_hum(%)</th>\n",
              "      <td>-0.02</td>\n",
              "      <td>-0.07</td>\n",
              "      <td>1.00</td>\n",
              "      <td>0.50</td>\n",
              "      <td>0.50</td>\n",
              "      <td>0.49</td>\n",
              "    </tr>\n",
              "    <tr>\n",
              "      <th>cloud(okta)</th>\n",
              "      <td>0.48</td>\n",
              "      <td>0.47</td>\n",
              "      <td>0.50</td>\n",
              "      <td>1.00</td>\n",
              "      <td>0.94</td>\n",
              "      <td>0.96</td>\n",
              "    </tr>\n",
              "    <tr>\n",
              "      <th>rain(mm)</th>\n",
              "      <td>0.45</td>\n",
              "      <td>0.39</td>\n",
              "      <td>0.50</td>\n",
              "      <td>0.94</td>\n",
              "      <td>1.00</td>\n",
              "      <td>0.99</td>\n",
              "    </tr>\n",
              "    <tr>\n",
              "      <th>avg._no._rainyday</th>\n",
              "      <td>0.47</td>\n",
              "      <td>0.41</td>\n",
              "      <td>0.49</td>\n",
              "      <td>0.96</td>\n",
              "      <td>0.99</td>\n",
              "      <td>1.00</td>\n",
              "    </tr>\n",
              "  </tbody>\n",
              "</table>\n",
              "</div>"
            ],
            "text/plain": [
              "                       temp(cel)  ...  avg._no._rainyday\n",
              "temp(cel)                   1.00  ...               0.47\n",
              "mean_windspeed(km/hr)       0.52  ...               0.41\n",
              "re_hum(%)                  -0.02  ...               0.49\n",
              "cloud(okta)                 0.48  ...               0.96\n",
              "rain(mm)                    0.45  ...               0.99\n",
              "avg._no._rainyday           0.47  ...               1.00\n",
              "\n",
              "[6 rows x 6 columns]"
            ]
          },
          "metadata": {
            "tags": []
          },
          "execution_count": 14
        }
      ]
    },
    {
      "cell_type": "code",
      "metadata": {
        "colab": {
          "base_uri": "https://localhost:8080/",
          "height": 596
        },
        "id": "HVAkYzmv5XC_",
        "outputId": "37e5e2c7-5ec6-40d9-cafc-ef8037ae3ae7"
      },
      "source": [
        "plt.figure(figsize=(16,10 ))\r\n",
        "sns.heatmap(corr_matrix,annot=True,cmap='YlGnBu')\r\n",
        "plt.show()"
      ],
      "execution_count": null,
      "outputs": [
        {
          "output_type": "display_data",
          "data": {
            "image/png": "[encoded data removed]",
            "text/plain": [
              "<Figure size 1152x720 with 2 Axes>"
            ]
          },
          "metadata": {
            "tags": [],
            "needs_background": "light"
          }
        }
      ]
    },
    {
      "cell_type": "code",
      "metadata": {
        "id": "Q2gOFQM0-Ahw"
      },
      "source": [
        "eignvalues,eignvectors = np.linalg.eig(X.corr())"
      ],
      "execution_count": null,
      "outputs": []
    },
    {
      "cell_type": "code",
      "metadata": {
        "colab": {
          "base_uri": "https://localhost:8080/"
        },
        "id": "XnZQIUlI-W26",
        "outputId": "5fe97c23-d041-4ad9-f446-227b32ba127a"
      },
      "source": [
        "pd.Series(eignvalues).sort_values()"
      ],
      "execution_count": null,
      "outputs": [
        {
          "output_type": "execute_result",
          "data": {
            "text/plain": [
              "4   0.01\n",
              "5   0.06\n",
              "3   0.41\n",
              "2   0.48\n",
              "1   1.32\n",
              "0   3.72\n",
              "dtype: float64"
            ]
          },
          "metadata": {
            "tags": []
          },
          "execution_count": 17
        }
      ]
    },
    {
      "cell_type": "code",
      "metadata": {
        "id": "QPMc5ouY-clA"
      },
      "source": [
        "from sklearn import tree\r\n",
        "clf = tree.DecisionTreeClassifier()\r\n",
        "# clf = clf.fit(X,y1)"
      ],
      "execution_count": null,
      "outputs": []
    },
    {
      "cell_type": "code",
      "metadata": {
        "id": "YxXkJiaNK2kM"
      },
      "source": [
        "# Xv = X.values.reshape(-1,1)\r\n",
        "# # y1=y1.values.reshape(-1,1)\r\n",
        "\r\n",
        "# h=.02\r\n",
        "# x_min,x_max = Xv.min(),Xv.max() + 1\r\n",
        "# y_min,y_max = y1.min(),y1.max() + 1\r\n",
        "# Xv"
      ],
      "execution_count": null,
      "outputs": []
    },
    {
      "cell_type": "code",
      "metadata": {
        "id": "1Hsl2gBZNAho"
      },
      "source": [
        "from sklearn.model_selection import train_test_split\r\n",
        "X_train,X_test,y_train,y_test = train_test_split(X,y1,test_size=.1,random_state=42)\r\n",
        "clf = clf.fit(X_train,y_train)"
      ],
      "execution_count": null,
      "outputs": []
    },
    {
      "cell_type": "code",
      "metadata": {
        "colab": {
          "base_uri": "https://localhost:8080/"
        },
        "id": "iWAFFvFQLzEA",
        "outputId": "0f13f943-ab35-40aa-f31f-b135da320519"
      },
      "source": [
        "from sklearn.metrics import accuracy_score\r\n",
        "y_pred = clf.predict(X_test)\r\n",
        "accuracy_score(y_test,y_pred)"
      ],
      "execution_count": null,
      "outputs": [
        {
          "output_type": "execute_result",
          "data": {
            "text/plain": [
              "0.9334637964774951"
            ]
          },
          "metadata": {
            "tags": []
          },
          "execution_count": 22
        }
      ]
    },
    {
      "cell_type": "code",
      "metadata": {
        "id": "Mbb_gJcsY-0l"
      },
      "source": [
        "# 'temp(cel)','mean_windspeed(km/hr)','re_hum(%)','cloud(okta)','rain(mm)','avg._no._rainyday']]\r\n",
        "# y1=df[['district']]\r\n",
        "Xm=[[22,0,92.5,0,150,0]]\r\n",
        "t=clf.predict(Xm)"
      ],
      "execution_count": null,
      "outputs": []
    },
    {
      "cell_type": "code",
      "metadata": {
        "id": "Jle2yd4AbFbn",
        "colab": {
          "base_uri": "https://localhost:8080/"
        },
        "outputId": "7d1f3024-0376-488a-f057-13fb9ccbbe82"
      },
      "source": [
        "t"
      ],
      "execution_count": null,
      "outputs": [
        {
          "output_type": "execute_result",
          "data": {
            "text/plain": [
              "array([10])"
            ]
          },
          "metadata": {
            "tags": []
          },
          "execution_count": 24
        }
      ]
    },
    {
      "cell_type": "code",
      "metadata": {
        "id": "u17w5oC4bIZF"
      },
      "source": [
        ""
      ],
      "execution_count": null,
      "outputs": []
    }
  ]
}