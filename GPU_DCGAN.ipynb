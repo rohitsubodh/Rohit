{
  "nbformat": 4,
  "nbformat_minor": 0,
  "metadata": {
    "colab": {
      "name": "GPU_DCGAN.ipynb",
      "private_outputs": true,
      "provenance": [],
      "authorship_tag": "ABX9TyN8xVQJQ/J82FEcrkKXlMDA",
      "include_colab_link": true
    },
    "kernelspec": {
      "name": "python3",
      "display_name": "Python 3"
    },
    "language_info": {
      "name": "python"
    },
    "accelerator": "GPU"
  },
  "cells": [
    {
      "cell_type": "markdown",
      "metadata": {
        "id": "view-in-github",
        "colab_type": "text"
      },
      "source": [
        "<a href=\"https://colab.research.google.com/github/rohitsubodh/Rohit/blob/main/GPU_DCGAN.ipynb\" target=\"_parent\"><img src=\"https://colab.research.google.com/assets/colab-badge.svg\" alt=\"Open In Colab\"/></a>"
      ]
    },
    {
      "cell_type": "code",
      "metadata": {
        "id": "01bof_8koNhu"
      },
      "source": [
        "\n",
        "from numpy import zeros,expand_dims,ones\n",
        "from numpy import vstack\n",
        "from numpy.random import randint,randn\n",
        "from keras.datasets.mnist import load_data\n",
        "from keras.optimizers import Adam\n",
        "from keras.models import Sequential\n",
        "from keras.layers import Dense,Reshape,Flatten,Conv2D,Conv2DTranspose,LeakyReLU\n",
        "from keras.layers import Dropout\n",
        "from matplotlib import pyplot"
      ],
      "execution_count": null,
      "outputs": []
    },
    {
      "cell_type": "code",
      "metadata": {
        "id": "h-6zAK9GoeO0"
      },
      "source": [
        "# define the standalone discriminator model\n",
        "def define_discriminator(in_shape=(28,28,1)):\n",
        "    model = Sequential()\n",
        "    model.add(Conv2D(64, (3,3), strides=(2, 2), padding='same', input_shape=in_shape))\n",
        "    model.add(LeakyReLU(alpha=0.2))\n",
        "    model.add(Dropout(0.4))\n",
        "    model.add(Conv2D(64, (3,3), strides=(2, 2), padding='same'))\n",
        "    model.add(LeakyReLU(alpha=0.2))\n",
        "    model.add(Dropout(0.4))\n",
        "    model.add(Flatten())\n",
        "    model.add(Dense(1, activation='sigmoid'))\n",
        "# compile model\n",
        "    opt = Adam(lr=0.0002, beta_1=0.5)\n",
        "    model.compile(loss='binary_crossentropy', optimizer=opt, metrics=['accuracy'])\n",
        "    return model\n"
      ],
      "execution_count": null,
      "outputs": []
    },
    {
      "cell_type": "code",
      "metadata": {
        "id": "mfaqjjNCoy75"
      },
      "source": [
        "# define the standalone generator model\n",
        "def define_generator(latent_dim):\n",
        "    model=Sequential()\n",
        "    n_nodes = 128 * 7 * 7\n",
        "    model.add(Dense(n_nodes,input_dim=latent_dim))\n",
        "    model.add(LeakyReLU(alpha=.2))\n",
        "    model.add(Reshape((7,7,128)))\n",
        "    # upsample to 14x14\n",
        "    model.add(Conv2DTranspose(128,(4,4),strides=(2,2),padding='same'))\n",
        "    model.add(LeakyReLU(alpha=.2))\n",
        "    # upsample to 14x14\n",
        "    model.add(Conv2DTranspose(128,(4,4),strides=(2,2),padding='same'))\n",
        "    model.add(LeakyReLU(alpha=.2))\n",
        "    model.add(Conv2D(1,(7,7),activation='sigmoid',padding='same'))\n",
        "    return model"
      ],
      "execution_count": null,
      "outputs": []
    },
    {
      "cell_type": "code",
      "metadata": {
        "id": "5fh_BYEkpDuN"
      },
      "source": [
        "# define the combined generator and discriminator model, for updating the generator\n",
        "def define_gan(g_model, d_model):\n",
        "# make weights in the discriminator not trainable\n",
        "   d_model.trainable = False\n",
        "# connect them\n",
        "   model = Sequential()\n",
        "# add generator\n",
        "   model.add(g_model)\n",
        "# add the discriminator\n",
        "   model.add(d_model)\n",
        "# compile model\n",
        "   opt = Adam(lr=0.0002, beta_1=0.5)\n",
        "   model.compile(loss='binary_crossentropy', optimizer=opt)\n",
        "   return model\n",
        "\n",
        "\n",
        "def load_real_samples():\n",
        "# load mnist dataset\n",
        "    (trainX, _), (_, _) = load_data()\n",
        "# expand to 3d, e.g. add channels dimension\n",
        "    X = expand_dims(trainX, axis=-1)\n",
        "# convert from unsigned ints to floats\n",
        "    X = X.astype('float32')\n",
        "# scale from [0,255] to [0,1]\n",
        "    X = X / 255.0\n",
        "    return X\n"
      ],
      "execution_count": null,
      "outputs": []
    },
    {
      "cell_type": "code",
      "metadata": {
        "id": "XqyH5AMwpHzJ"
      },
      "source": [
        "def generate_real_samples(dataset, n_samples):\n",
        "# choose random instances\n",
        "       ix = randint(0, dataset.shape[0], n_samples)\n",
        "# retrieve selected images\n",
        "       X = dataset[ix]\n",
        "# generate ✬real✬ class labels (1)\n",
        "       y = ones((n_samples, 1))\n",
        "       return X, y\n",
        "\n",
        "def generate_latent_points(latent_dim, n_samples):\n",
        "# generate points in the latent space\n",
        "     x_input = randn(latent_dim * n_samples)\n",
        "# reshape into a batch of inputs for the network\n",
        "     x_input = x_input.reshape(n_samples, latent_dim)\n",
        "     return x_input        \n",
        "\n",
        "# use the generator to generate n fake examples, with class labels\n",
        "def generate_fake_samples(g_model, latent_dim, n_samples):\n",
        "# generate points in latent space\n",
        "     x_input = generate_latent_points(latent_dim, n_samples)\n",
        "# predict outputs\n",
        "     X = g_model.predict(x_input)\n",
        "# create ✬fake✬ class labels (0)\n",
        "     y = zeros((n_samples, 1))\n",
        "     return X, y\n",
        "     "
      ],
      "execution_count": null,
      "outputs": []
    },
    {
      "cell_type": "code",
      "metadata": {
        "id": "7gRjMH-fpKjt"
      },
      "source": [
        "def save_plot(examples, epoch, n=10):\n",
        "# plot images\n",
        "    for i in range(n * n):\n",
        "# define subplot\n",
        "     pyplot.subplot(n, n, 1 + i)\n",
        "# turn off axis\n",
        "     pyplot.axis('off')\n",
        "# plot raw pixel data\n",
        "     pyplot.imshow(examples[i, :, :, 0], cmap='gray_r')\n",
        "# save plot to file\n",
        "     filename = 'generated_plot_e%03d.png' % (epoch+1)\n",
        "     pyplot.savefig(filename)\n",
        "     pyplot.close()\n",
        "\n",
        "# evaluate the discriminator, plot generated images, save generator model\n",
        "def summarize_performance(epoch, g_model, d_model, dataset, latent_dim, n_samples=100):\n",
        "# prepare real samples\n",
        "       X_real, y_real = generate_real_samples(dataset, n_samples)\n",
        "# evaluate discriminator on real examples\n",
        "       _, acc_real = d_model.evaluate(X_real, y_real, verbose=0)\n",
        "# prepare fake examples\n",
        "       x_fake, y_fake = generate_fake_samples(g_model, latent_dim, n_samples)\n",
        "# evaluate discriminator on fake examples\n",
        "       _, acc_fake = d_model.evaluate(x_fake, y_fake, verbose=0)\n",
        "# summarize discriminator performance\n",
        "       print('>Accuracy real: %.0f%%, fake: %.0f%%' % (acc_real*100, acc_fake*100))\n",
        "# save plot\n",
        "      #  save_plot(x_fake, epoch)\n",
        "# save the generator model tile file\n",
        "       filename = 'generator_model_%03d.h5' % (epoch + 1)\n",
        "       g_model.save(filename)\n",
        "\n"
      ],
      "execution_count": null,
      "outputs": []
    },
    {
      "cell_type": "code",
      "metadata": {
        "id": "dNtCEhCFpNv9"
      },
      "source": [
        "# train the generator and discriminator\n",
        "def train(g_model, d_model, gan_model, dataset, latent_dim, n_epochs=100, n_batch=256):\n",
        "     bat_per_epo = int(dataset.shape[0] / n_batch)\n",
        "     half_batch = int(n_batch / 2)\n",
        "# manually enumerate epochs\n",
        "     for i in range(n_epochs):\n",
        "# enumerate batches over the training set\n",
        "        for j in range(bat_per_epo):\n",
        "# get randomly selected ✬real✬ samples\n",
        "            X_real, y_real = generate_real_samples(dataset, half_batch)\n",
        "# generate ✬fake✬ examples\n",
        "            X_fake, y_fake = generate_fake_samples(g_model, latent_dim, half_batch)\n",
        "# create training set for the discriminator\n",
        "            X, y = vstack((X_real, X_fake)), vstack((y_real, y_fake))\n",
        "# update discriminator model weights\n",
        "            d_loss, _ = d_model.train_on_batch(X, y)\n",
        "# prepare points in latent space as input for the generator\n",
        "            X_gan = generate_latent_points(latent_dim, n_batch)\n",
        "# create inverted labels for the fake samples\n",
        "            y_gan = ones((n_batch, 1))\n",
        "# update the generator via the discriminator✬s error\n",
        "            g_loss = gan_model.train_on_batch(X_gan, y_gan)\n",
        "# summarize loss on this batch\n",
        "            print('>%d, %d/%d, d=%.3f, g=%.3f' % (i+1, j+1, bat_per_epo, d_loss, g_loss))\n",
        "# evaluate the model performance, sometimes\n",
        "            if (i+1) % 2 == 0:\n",
        "                   summarize_performance(i, g_model, d_model, dataset, latent_dim)"
      ],
      "execution_count": null,
      "outputs": []
    },
    {
      "cell_type": "code",
      "metadata": {
        "id": "G09p40HopVWQ"
      },
      "source": [
        "# size of the latent space\n",
        "latent_dim = 100\n",
        "# create the discriminator\n",
        "d_model = define_discriminator()\n",
        "# create the generator7.7. Complete Example of GAN for MNIST 123\n",
        "g_model = define_generator(latent_dim)\n",
        "# create the gan\n",
        "gan_model = define_gan(g_model, d_model)\n",
        "# load image data\n",
        "dataset = load_real_samples()\n",
        "# train model\n",
        "train(g_model, d_model, gan_model, dataset, latent_dim)\n"
      ],
      "execution_count": null,
      "outputs": []
    },
    {
      "cell_type": "code",
      "metadata": {
        "id": "Ga-BC3nB5j85"
      },
      "source": [
        "filename = 'generator_model.h5'\n",
        "g_model.save(filename)\n"
      ],
      "execution_count": null,
      "outputs": []
    },
    {
      "cell_type": "code",
      "metadata": {
        "id": "WT_DRimc-5rF"
      },
      "source": [
        "from keras.models import load_model\n",
        "from numpy.random import randn\n",
        "from matplotlib import pyplot\n",
        "# generate points in latent space as input for the generator\n",
        "def generate_latent_points(latent_dim, n_samples):\n",
        "    # generate points in the latent space\n",
        "    x_input = randn(latent_dim * n_samples)\n",
        "    # reshape into a batch of inputs for the network\n",
        "    x_input = x_input.reshape(n_samples, latent_dim)\n",
        "    return x_input\n",
        "\n",
        "def save_plot(examples, n):\n",
        "       #  plot images\n",
        "       for i in range(n * n):\n",
        "            # define subplot\n",
        "            pyplot.subplot(n, n, 1 + i)\n",
        "            # turn off axis\n",
        "            pyplot.axis('off')\n",
        "            # plot raw pixel data\n",
        "            pyplot.imshow(examples[i, :, :,0],cmap='gray_r')\n",
        "       pyplot.show()\n",
        "# load model\n",
        "model = load_model('generator_model.h5')\n",
        "# generate images\n",
        "latent_points = generate_latent_points(100, 25)\n",
        "print(latent_points)\n",
        "# generate images\n",
        "X = model.predict(latent_points)\n",
        "# scale from [-1,1] to [0,1]\n",
        "\n",
        "# plot the result\n",
        "save_plot(X, 5)     "
      ],
      "execution_count": null,
      "outputs": []
    },
    {
      "cell_type": "code",
      "metadata": {
        "id": "OeKcIrJ6_a9r"
      },
      "source": [
        "# example of generating an image for a specific point in the latent space\n",
        "from keras.models import load_model\n",
        "from numpy import asarray\n",
        "from matplotlib import pyplot\n",
        "# load model\n",
        "model = load_model('generator_model.h5')\n",
        "# all 0s\n",
        "vector = asarray([[ -0.427398789598 for _ in range(100)]])\n",
        "# generate image\n",
        "X = model.predict(vector)\n",
        "# plot the result\n",
        "pyplot.imshow(X[0, :, :, 0], cmap='gray_r')\n",
        "pyplot.show()"
      ],
      "execution_count": null,
      "outputs": []
    },
    {
      "cell_type": "code",
      "metadata": {
        "id": "7ukKj31lApUI"
      },
      "source": [
        "0"
      ],
      "execution_count": null,
      "outputs": []
    }
  ]
}